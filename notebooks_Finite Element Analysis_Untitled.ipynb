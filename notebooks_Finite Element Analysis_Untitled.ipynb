{
  "metadata": {
    "language_info": {
      "codemirror_mode": {
        "name": "python",
        "version": 3
      },
      "file_extension": ".py",
      "mimetype": "text/x-python",
      "name": "python",
      "nbconvert_exporter": "python",
      "pygments_lexer": "ipython3",
      "version": "3.8"
    },
    "kernelspec": {
      "name": "python",
      "display_name": "Python (Pyodide)",
      "language": "python"
    }
  },
  "nbformat_minor": 4,
  "nbformat": 4,
  "cells": [
    {
      "cell_type": "code",
      "source": "from matplotlib import pyplot as plt\nimport numpy as np\nfrom scipy.integrate import quad\n\nn1=1000\nu = np.zeros(n1)\nx=np.linspace(0,1,n1)",
      "metadata": {
        "trusted": true
      },
      "execution_count": null,
      "outputs": []
    },
    {
      "cell_type": "code",
      "source": "for i in np.arange(n1):\n    u[i] = (3*np.sqrt(3)*x[i]/2 - \n           3*np.sqrt(3)*x[i]**3/2)\ndu = np.zeros(n1)\n\nfor i in np.arange(n1):\n    du[i] = (3*np.sqrt(3)/2 - \n           9*np.sqrt(3)*x[i]**2/2)",
      "metadata": {
        "trusted": true
      },
      "execution_count": null,
      "outputs": []
    },
    {
      "cell_type": "code",
      "source": "def ue(x):\n    ue= (3*np.sqrt(3)*x/2 - \n           3*np.sqrt(3)*x**3/2)\n    return ue\n\ndef Elasticity1D_FEM(Ne,p):\n    A=1.\n    E=1.\n    L = 1.\n    he = L/Ne\n    ndofs = Ne - 1\n\n\n    N1e = lambda x,b:-(x-b)/he\n    N2e = lambda x,a: (x-a)/he\n    q = lambda x: 9*np.sqrt(3)*x\n\n    I1 = lambda x,b: N1e(x,b)*q(x)\n    I2 = lambda x,a: N2e(x,a)*q(x)\n",
      "metadata": {
        "trusted": true
      },
      "execution_count": null,
      "outputs": []
    },
    {
      "cell_type": "code",
      "source": "#Posicion de los nodos\n    xh = np.zeros(Ne + 1) \n    for i in np.arange(Ne + 1):\n        if i == 0:\n            xh[i]=0.\n        else:\n            xh[i]=L/Ne + xh[i-1]\n\n#Matrix de rigidez del elemento\n    Ke = A*E*np.matrix([[1./he,-1/he]\n    ,[-1/he,1./he]])\n\n#Vector de fuerza de los elementos\n    fe = np.zeros([Ne,2])\n    for e in np.arange(Ne):\n            fe[e,0] = quad(I1,xh[e]\n            ,xh[e+1],args=(xh[e+1]))[0]\n            fe[e,1] = quad(I2,xh[e]\n            ,xh[e+1],args=(xh[e]))[0]\n\n#Matriz de ensamblaje\n    LM = np.zeros([Ne,2]) \n    for e in np.arange(Ne):\n        if e == 0:\n            LM[e,0]=-1\n            LM[e,1]= e\n    \n        elif e == Ne-1:\n            LM[e,0]= e-1\n            LM[e,1]=-1\n        else:\n            LM[e,0]=e-1\n            LM[e,1]=e\n\n    K = np.zeros([ndofs,ndofs])\n    F = np.zeros([ndofs,1])\n\n#Algoritmo de ensamblaje    \n    for e in np.arange(Ne):\n        for a in np.arange(2):\n            A=int(LM[e,a])\n            for b in np.arange(2):\n                B=int(LM[e,b])\n                if (A!=-1 and B!=-1):\n                    K[A,B]=K[A,B]+Ke[a,b]\n            if (A!=-1):\n                for e2 in np.arange(Ne):\n                    if LM[e2,a] == LM[e,a]:\n                        F[A,0]=F[A,0]+fe[e2,a]\n\n    uh = np.linalg.solve(K,F)   \n    uh =np.concatenate(([[0]]\n    ,uh,[[0]]))\n    \n    return uh,xh",
      "metadata": {
        "trusted": true
      },
      "execution_count": null,
      "outputs": []
    },
    {
      "cell_type": "code",
      "source": "#====================================\n# Graficos\n#====================================\n\n# Para Ne = 2, 4, 16.\n#====================================\nNel=[2,4,16]\ncolor = ['r','b','g']\nplt.figure()\nplt.plot(x,u,'k',lw=2,label='Exacto')\nfor Ne in Nel:\n    n=1000\n    L=1.\n    xloc=np.linspace(0,L,n)\n\n    xh=Elasticity1D_FEM(Ne,1)[1]\n    uh=Elasticity1D_FEM(Ne,1)[0]\n\n            \n    plt.grid('on')\n    plt.ylim(0,1.2)\n    plt.xlim(0,1.2)\n    plt.ylabel('$u$')\n    plt.xlabel('$x$')\n    if Ne == 2:\n        color = 'r'\n    elif Ne == 4:\n        color = 'b'\n    else:\n        color = 'g'\n    plt.plot(xh,uh,color,lw=2,label='$N_{el}$ = '+str(Ne))\n    plt.legend(loc='upper right')\n    plt.show()",
      "metadata": {
        "trusted": true
      },
      "execution_count": null,
      "outputs": []
    },
    {
      "cell_type": "code",
      "source": "",
      "metadata": {},
      "execution_count": null,
      "outputs": []
    },
    {
      "cell_type": "code",
      "source": "",
      "metadata": {},
      "execution_count": null,
      "outputs": []
    }
  ]
}